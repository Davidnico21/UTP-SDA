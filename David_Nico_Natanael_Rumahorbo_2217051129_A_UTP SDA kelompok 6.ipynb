{
  "nbformat": 4,
  "nbformat_minor": 0,
  "metadata": {
    "colab": {
      "provenance": []
    },
    "kernelspec": {
      "name": "python3",
      "display_name": "Python 3"
    },
    "language_info": {
      "name": "python"
    }
  },
  "cells": [
    {
      "cell_type": "code",
      "execution_count": null,
      "metadata": {
        "id": "WDrLtYSmHRKw"
      },
      "outputs": [],
      "source": [
        "# Bagian 3 : David Nico Natanael Rumahorbo (2217051129)\n",
        "    elif pilihan == \"3\":\n",
        "        print(\"=\" * 10, \"Menu Pembelian RAM\", \"=\" * 10)\n",
        "        print(\"Harga RAM 16GB = Rp. 800.000\")\n",
        "        tambah = int(input(\"Masukkan jumlah barang yang diinginkan : \"))\n",
        "        beli.tambah_barang(tambah)\n",
        "        produk = \"RAM\"\n",
        "        harga = 800000\n",
        "    elif pilihan == \"4\":\n",
        "        print(\"=\" * 10, \"Menu Pembelian GPU\", \"=\" * 10)\n",
        "        print(\"Harga ASUS TUF GAMING GTX 1650 4GB GDDR6 = Rp. 2.500.000\")\n",
        "        tambah = int(input(\"Masukkan jumlah barang yang diinginkan : \"))\n",
        "        beli.tambah_barang(tambah)\n",
        "        produk = \"GPU\"\n",
        "        harga = 2500000\n",
        "    elif pilihan == \"X\" : \n",
        "        print(\"Terimakasih telah mengunjungi di StarCom\")\n",
        "        break\n",
        "    else:\n",
        "        print(\"Pilihan tidak valid\")\n",
        "        continue\n",
        "\n",
        "\n",
        "    total = harga * tambah\n",
        "    print(\"Total biaya:\", total)\n",
        "    if uang > total:\n",
        "        print(\"Kembalian: \", uang - total)\n",
        "        print(\"Terimakasih telah berbelanja di StarCom\")\n",
        "    else :\n",
        "        print(\"Uang Anda tidak cukup!\")\n"
      ]
    }
  ]
}